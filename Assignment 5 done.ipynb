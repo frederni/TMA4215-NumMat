{
 "cells": [
  {
   "cell_type": "markdown",
   "metadata": {},
   "source": [
    "# TMA4215 - Assignment 5 - From modules 4 and 5\n",
    "<font color=\"grey\">\n",
    "    \n",
    "**Deadline:** Thursday November 12, 11:59PM\n",
    "\n",
    "**For approval:** Upload a Jupyter Notebook, a pdf-file, or a scan/photo of readable handwriting in Blackboard with all calculations and answers. Answer Control questions in Blackboard.\n",
    "\n",
    "**Problem 1.** (Module 4)\n",
    "We define the function $f:\\mathbb{R}^2\\rightarrow\\mathbb{R}$\n",
    "$$\n",
    "f(x,y) = y^4 + 3y^2 - 4xy - 2y + x^2\n",
    "$$\n",
    "\n",
    "**(a)** Find all the (real) stationary points of $f$ and determine all its local or global minima. Check in particular whether the Hessian is SPD at the stationary point(s).\n",
    "\n",
    "**Control question 1:** How many stationary points are there?\n",
    "\n",
    "</font>"
   ]
  },
  {
   "cell_type": "markdown",
   "metadata": {},
   "source": [
    "## Task 1a\n",
    "\n",
    "We find the stationary points by computing the roots of the gradient, i.e. $\\nabla f(x,y) = 0$ and get\n",
    "\n",
    "$$\n",
    "(x,y) = \\left \\{(-2, -1), \\left(1 \\mp \\sqrt{3}, \\frac12(1 \\mp \\sqrt{3})\\right) \\right \\}\n",
    "$$\n",
    "\n",
    "Furthermore, evaluating $f(x,y)$ at the given points indicates that the two points ($(-2,-1)$ and 1$(-\\sqrt{3} \\dots)$) are mimima, and the remaining stationary point is a saddle point.\n",
    "\n",
    "The Hessian is given by\n",
    "\n",
    "$$(H(x,y))_{ij} = \\frac{\\partial^2 f}{\\partial x \\partial y},$$\n",
    "which simply evaluates to \n",
    "\n",
    "$$\n",
    "H(x,y) = \\begin{bmatrix}\n",
    "2 & -4 \\\\\n",
    "-4 & 12y^2+2 \n",
    "\\end{bmatrix}\n",
    "$$\n",
    "\n",
    "It is clear that $H$ is only symmetric for $y=0$, which matches none of the stationary points.\n",
    "\n",
    "**QQ1: There are 3 stationary points / Test says 1***\n",
    "\n",
    "*The control question says 1 is correct but a stationary point is $\\{\\mathbf{x}\\in f(\\mathbf{x}) : \\nabla f(\\mathbf{x})=\\mathbf{0})\\}$, so the minima are also stationary."
   ]
  },
  {
   "cell_type": "markdown",
   "metadata": {},
   "source": [
    "<font color=\"grey\">\n",
    "\n",
    "**(b)** Starting at the point $(x,y) = (0, 0)$, compute one step of the gradient descent method with backtracking (Armijo) line search.\n",
    "\n",
    "$$\n",
    "\\begin{array}{l}\n",
    "\\text{Choose}\\ \\bar{\\alpha}>0, \\rho\\in(0,1)\\ c\\in(0,1);\\ \n",
    "\\text{Set}\\ \\alpha\\rightarrow\\bar{\\alpha}\\\\\n",
    "\\mathbf{repeat}\\ \\text{until} f(x_k+\\alpha p_k)\\leq f(x_k)+c\\alpha\\nabla f_k^Tp_k\\\\\n",
    "\\qquad\\alpha\\rightarrow\\rho\\alpha \\\\\n",
    "\\textbf{end}\n",
    "\\end{array}\n",
    "$$\n",
    "\n",
    "Start with an initial step length $\\bar{\\alpha}=1$, and use the parameters $c = 1/10$ (sufficient decrease parameter) and   $\\rho=1/4$ (contraction factor). The calculations can be done either by hand or by writing a code for it.\n",
    "\n",
    "**Control question 2:** What value of $\\alpha$ is used in this first iteration?\n",
    "\n",
    "**Control question 3:** What is $(x_1,y_1)$, the next approximation.\n",
    "</font>\n",
    "\n",
    "## Task 1b"
   ]
  },
  {
   "cell_type": "code",
   "execution_count": 21,
   "metadata": {},
   "outputs": [
    {
     "name": "stdout",
     "output_type": "stream",
     "text": [
      "(x1,y1) = (0.0, 0.5)\n",
      "alpha = 0.25\n"
     ]
    }
   ],
   "source": [
    "import numpy as np\n",
    "\n",
    "def grad_f(x,y):\n",
    "    \"\"\"Gradient of f\"\"\"\n",
    "    return np.array((2*(x - 2*y), -4*x + 4*y**3 + 2*y - 2))\n",
    "\n",
    "def f(x,y):\n",
    "    \"\"\"f as given in task\"\"\"\n",
    "    return y**4+3*y*y-4*x*y-2*y+x*x\n",
    "\n",
    "def armijo(x0, y0, alpha_bar = 1, c=1/10, rho=1/4):\n",
    "    \"\"\"armijo backtracking\"\"\"\n",
    "    # Init of variables\n",
    "    x = x0\n",
    "    y = y0\n",
    "    a = alpha_bar\n",
    "    p = -grad_f(x,y) #Choose the search direction in negative gradient\n",
    "    while f(x+a*p[0], y+a*p[1]) > f(x,y) + c*a*grad_f(x,y).T@p:\n",
    "        #While Armijo-Goldstein condition not satisfied\n",
    "        a = rho*a\n",
    "    return x+a*p[0], y+a*p[1], a\n",
    "x, y, alpha = armijo(0,0)\n",
    "print(\"(x1,y1) = (\", x, \", \", y, \")\", sep=\"\")\n",
    "print(\"alpha =\", alpha)"
   ]
  },
  {
   "cell_type": "markdown",
   "metadata": {},
   "source": [
    "**QQ2:** The $\\alpha$ satisfying the condition is $0.25$.\n",
    "\n",
    "**QQ3:** $(x_1, y_1) = (0, 0.5)$"
   ]
  },
  {
   "cell_type": "markdown",
   "metadata": {},
   "source": [
    "<font color=\"grey\">**Problem 2** (Module 5) Find the natural cubic spline $S_3(x)$ on the knots $\\{-1,0,1\\}$ that interepolates the data $S_3(-1)=0, S_3(0)=1, S_3(1)=0$.\n",
    "\n",
    "**Control question 4:** What is $S_3(1/2)$. \n",
    "\n",
    "**Control question 5:** What is $S_3'(1/2)$.\n",
    "</font>\n",
    "\n",
    "## Task 2\n"
   ]
  },
  {
   "cell_type": "markdown",
   "metadata": {},
   "source": [
    "On the interval $[-1, 0]$, we denote $S_0(x)=a_0+b_0(x+1)+c_0(x+1)^2+d_0(x+1)^3$, and for $[0,1]$, $S_1(x)=a_1+b_1x+c_1x^2+d_1x^3$.\n",
    "\n",
    "The given points implies the following\n",
    "\n",
    "$$\n",
    "S_0(-1)=0\\implies a_0 = 0 \\\\\n",
    "S_0(0)=1 \\implies b_0+c_0+d_0=1 \\tag{1}\\\\\n",
    "$$\n",
    "\n",
    "$$\n",
    "S_1(0)=1\\implies a_1 = 1 \\\\ \n",
    "S_1(1)=0\\implies b_1+c_1+d_1=1 \\tag{2}\n",
    "$$\n",
    "\n",
    "We also know that the derivatives $S_0'(0)=S_1'(0)$ for smoothness. The first and second derivatives are\n",
    "\n",
    "$$\n",
    "\\begin{align}\n",
    "S_0'(x) &=b_0+2c_0(x+1)+3d_0(x+1)^2 \\\\\n",
    "S_1'(x) &=b_1+2c_1x+3d_1x^2\\\\\n",
    "S_0''(x) &=2c_0+6d_0(x+1) \\\\\n",
    "S_1''(x) &= 2c_1+6d_1x\n",
    "\\end{align}\n",
    "$$\n",
    "Thus, we get\n",
    "$\n",
    "S_0'(0)=S_1'(0) \\iff b_0+2c_0+3d_0=b_1 \\tag{3}\n",
    "$\n",
    "\n",
    "$\n",
    "S_0''(0)=S_1''(0) \\iff 2c_0+d_0=2c_1 \\tag{4}\n",
    "$\n",
    "\n",
    "In addition, the boundry conditions give that $S_0''(-1)=0=S_1''(1)$\n",
    "\n",
    "$$\\begin{align}\n",
    "&\\iff 2c_0=0 \\iff c_0 = 0 \\\\\n",
    "&\\iff 2c_1+6d_1=0 \\tag{5}\n",
    "\\end{align}$$\n",
    "\n",
    "The equations show directly that $a_0=0, a_1=1, c_0 = 0$. The other $5$ variables are expressed through $5$ equations. We organize equations $(1), (2), (3), (4), (5)$ in a matrix with each column corresponding to $b_0, d_0, b_1, c_1, d_1$, which results in:\n",
    "\n",
    "$$\n",
    "\\left[\n",
    "\\begin{array}{ccccc|c}\n",
    "1 & 1 & 0 & 0 & 0 & -1 \\\\\n",
    "0 & 0 & 1 & 1 & 1 & 1\\\\\n",
    "1 & 3 & -1 & 0 & 0 & 0\\\\\n",
    "0 & 6 & 0 & -2 & 0 & 0\\\\\n",
    "0 & 0 & 0 & 2 & 6 & 0\\\\\n",
    "\\end{array}\n",
    "\\right]\n",
    "$$\n",
    "We solve this matrix with Python in the cell below."
   ]
  },
  {
   "cell_type": "code",
   "execution_count": 22,
   "metadata": {},
   "outputs": [
    {
     "name": "stdout",
     "output_type": "stream",
     "text": [
      "+----+------+----+-----+----+------+-----+------+\n",
      "| a0 |  b0  | c0 |  d0 | a1 |  b1  |  c1 |  d1  |\n",
      "+----+------+----+-----+----+------+-----+------+\n",
      "| 0  | -1.5 | 0  | 0.5 | 1  | -0.0 | 1.5 | -0.5 |\n",
      "+----+------+----+-----+----+------+-----+------+\n"
     ]
    }
   ],
   "source": [
    "import numpy as np\n",
    "from prettytable import PrettyTable\n",
    "\n",
    "splineMatrix = np.array([[1,1,0,0,0], [0,0,1,1,1], [1,3,-1,0,0], [0,6,0,-2,0], [0,0,0,2,6]])\n",
    "vec = np.array([-1,1,0,0,0])\n",
    "\n",
    "a0, a1, c0 = 0, 1, 0\n",
    "b0, d0, b1, c1, d1 = np.linalg.solve(splineMatrix, vec)\n",
    "\n",
    "pt = PrettyTable()\n",
    "pt.field_names = [\"a0\", \"b0\", \"c0\", \"d0\", \"a1\", \"b1\", \"c1\", \"d1\"]\n",
    "pt.add_row([a0, b0, c0, d0, a1, b1, c1, d1])\n",
    "print(pt)"
   ]
  },
  {
   "cell_type": "markdown",
   "metadata": {},
   "source": [
    "Thus, the cubic spline is determined by\n",
    "\n",
    "$$\n",
    "S_3(x)=\n",
    "\\begin{cases}\n",
    "-\\frac32 x+\\frac12 x^3, &\\text{if} x\\in [-1,0] \\\\\n",
    "1+\\frac32 x^2-\\frac12 x^3, &\\text{if} x\\in[0,1]\n",
    "\\end{cases}\n",
    "$$\n",
    "Remark that for $x\\in[0,1], \\quad S_3'(x)=3x-\\frac32 x^2$\n",
    "\n",
    "**QQ4:** $S_3(\\frac12)=\\frac{11}{16}$, but I get $\\frac{21}{16}$\n",
    "\n",
    "**QQ5:** $S_3'(\\frac12)=-\\frac{9}{8}$, but I get $-\\frac{9}{8}$"
   ]
  },
  {
   "cell_type": "markdown",
   "metadata": {},
   "source": [
    "**Remark to Task 2**\n",
    "\n",
    "QQ4 is supposed to be $\\frac{11}{16}$ and QQ5 $-\\frac98$. Not sure what's wrong - possibly some arithmetic operation messed up the results."
   ]
  }
 ],
 "metadata": {
  "kernelspec": {
   "display_name": "Python 3",
   "language": "python",
   "name": "python3"
  },
  "language_info": {
   "codemirror_mode": {
    "name": "ipython",
    "version": 3
   },
   "file_extension": ".py",
   "mimetype": "text/x-python",
   "name": "python",
   "nbconvert_exporter": "python",
   "pygments_lexer": "ipython3",
   "version": "3.7.4"
  }
 },
 "nbformat": 4,
 "nbformat_minor": 4
}
