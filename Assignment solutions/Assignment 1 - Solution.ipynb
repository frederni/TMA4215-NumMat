{
 "cells": [
  {
   "cell_type": "markdown",
   "metadata": {},
   "source": [
    "# TMA4320 - Assignment 1 - solution\n",
    "\n",
    "\n",
    "**Problem 1** Write a function for LU-factorisation with row-wise pivoting as indicated above.\n",
    "A template could be\n",
    "\n",
    "\n",
    "    def mylu(A):\n",
    "   \n",
    "    \n",
    "and it should return the pivot vector (permutation vector) $\\mathtt{P}$, and and over-written  version of $A$. You can also choose to copy $A$ into some other matrix $\\mathtt{LU}$ from the beginning using e.g. \n",
    "\n",
    "    LU = A.copy()\n",
    "\n",
    "and write into and return this matrix in order to save the input matrix $A$ \n",
    "\n",
    "Use the algorithm described above. See hints about indexing and useful numpy-functions that can be used below.\n",
    "\n",
    "\n",
    "   \n",
    "   \n",
    "**Solution** See the function mylu(A)"
   ]
  },
  {
   "cell_type": "code",
   "execution_count": null,
   "metadata": {},
   "outputs": [],
   "source": []
  },
  {
   "cell_type": "code",
   "execution_count": 2,
   "metadata": {},
   "outputs": [],
   "source": [
    "import numpy as np\n",
    "\n",
    "\n",
    "def mylu(A):\n",
    "    \"\"\"\n",
    "    Compute the LU-factoring of a matrix with partial pivoting.\n",
    "\n",
    "    Input\n",
    "       A: the square matrix to be LU-factored\n",
    "    Output\n",
    "       LU: Matrix containing L and U. \n",
    "                  L = tril(LU(P,:),-1)+eye(n)\n",
    "                  U = triu(LU(P,:))\n",
    "        P: A vector with a permutation of the integers (1:n)' \n",
    "    \"\"\"\n",
    "    n, m = A.shape\n",
    "    if m != n:\n",
    "        raise ValueError('Matrix must be square')\n",
    "    \n",
    "    eps = np.finfo(A.dtype).eps\n",
    "    LU = A.copy()  # Only needed if A is used later.\n",
    "    P = list(range(n))\n",
    "    \n",
    "    for k in range(n-1): \n",
    "        pivot = np.argmax(abs(LU[P[k:], k]))\n",
    "        val = (LU[P[k:], k])[pivot] # TODO: UGLY!\n",
    "        if abs(val) < np.sqrt(eps): # Use square root of machine precision as threshold for singular\n",
    "            raise ValueError('Matrix is singular to working precision')\n",
    "        pivot = pivot + k # local to global pivot.\n",
    "\n",
    "        #swap elements in pivot vector\n",
    "        P[pivot], P[k] = P[k], P[pivot]\n",
    "        \n",
    "        mults = LU[P[k+1:],k] / LU[P[k],k]\n",
    "        LU[P[k+1:], k+1:] = LU[P[k+1:],k+1:] - np.outer(mults,LU[P[k],k+1:])\n",
    "        LU[P[k+1:], k] = mults\n",
    "\n",
    "    return LU, P\n",
    "\n",
    "# Here are the given functions for  substitution\n",
    "def forward_subs(LU,P,b):\n",
    "    n, m = LU.shape\n",
    "    Pb = b[P]\n",
    "    c = np.zeros(n)\n",
    "    c[0] = Pb[0]\n",
    "    for k in range(1,n):\n",
    "        c[k] = Pb[k] - LU[P[k],0:k] @ c[0:k]\n",
    "        \n",
    "    return c\n",
    "\n",
    "def backward_subs(LU,P,c):\n",
    "    n,m = LU.shape\n",
    "    x = np.zeros(n)\n",
    "    x[n-1] = c[n-1]/LU[P[n-1],n-1]\n",
    "    for k in range(n-1,0,-1):\n",
    "        x[k-1] = (c[k-1]-LU[P[k-1],k:] @ x[k:])/LU[P[k-1],k-1]\n",
    "        \n",
    "    return x\n",
    "\n",
    "# Here is the code for generating the test example\n",
    "def getAb():\n",
    "    A=np.array([[0.3050, 0.5399, 0.9831, 0.4039, 0.1962],\n",
    "                [0.2563, -0.1986, 0.7903, 0.6807, 0.5544],\n",
    "                [0.7746, 0.6253, -0.1458, 0.1704,  0.5167],\n",
    "                [0.4406, 0.9256, 0.4361, -0.2254, 0.7784],\n",
    "                [0.4568, 0.2108, 0.6006, 0.3677, -0.8922]])\n",
    "    b=np.array([0.9876,-1.231,0.0987,-0.5544,0.7712])\n",
    "    return A,b\n"
   ]
  },
  {
   "cell_type": "markdown",
   "metadata": {},
   "source": [
    "**Problem 2** Combine your function (mylu) with the functions for forward and backward substitution given below for computing solutions to linear systems $Ax=b$. Test it out by using $A$ and $b$ from the function getAb() below.\n",
    "\n",
    "**Control question 1:** Give the permutation vector $\\mathtt{P}$ from this numerical test (multiple choice)\n",
    "\n",
    "**Control question 2:** Give the first component of the intermediate result $c$ (where $Lc=Pb$) (multiple choice)\n",
    "\n",
    "**Control question 3:** Give the last component in the final answer $x$ (where $Ax=b$) with the given example.\n",
    "\n",
    " \n",
    "\n",
    "**Solution:** We do the example and print out what is needed to answer the control questions\n"
   ]
  },
  {
   "cell_type": "code",
   "execution_count": 3,
   "metadata": {},
   "outputs": [
    {
     "name": "stdout",
     "output_type": "stream",
     "text": [
      "P=\n",
      " [2, 3, 1, 0, 4]\n",
      "\n",
      "c[0]\n",
      " 0.0987\n",
      "\n",
      "x[4]\n",
      " -1.4130390910442732\n"
     ]
    }
   ],
   "source": [
    "A,b = getAb()\n",
    "LU, P = mylu(A)\n",
    "c = forward_subs(LU,P,b)\n",
    "x = backward_subs(LU,P,c)\n",
    "print('P=\\n',P)\n",
    "print('\\nc[0]\\n',c[0])\n",
    "print('\\nx[4]\\n',x[4])\n",
    "\n"
   ]
  },
  {
   "cell_type": "code",
   "execution_count": 4,
   "metadata": {},
   "outputs": [],
   "source": [
    "def getAb():\n",
    "    A=np.array([[0.3050, 0.5399, 0.9831, 0.4039, 0.1962],\n",
    "                [0.2563, -0.1986, 0.7903, 0.6807, 0.5544],\n",
    "                [0.7746, 0.6253, -0.1458, 0.1704,  0.5167],\n",
    "                [0.4406, 0.9256, 0.4361, -0.2254, 0.7784],\n",
    "                [0.4568, 0.2108, 0.6006, 0.3677, -0.8922]])\n",
    "    b=np.array([0.9876,-1.231,0.0987,-0.5544,0.7712])\n",
    "    return A,b\n",
    "    \n"
   ]
  },
  {
   "cell_type": "code",
   "execution_count": null,
   "metadata": {},
   "outputs": [],
   "source": []
  }
 ],
 "metadata": {
  "kernelspec": {
   "display_name": "Python 3",
   "language": "python",
   "name": "python3"
  },
  "language_info": {
   "codemirror_mode": {
    "name": "ipython",
    "version": 3
   },
   "file_extension": ".py",
   "mimetype": "text/x-python",
   "name": "python",
   "nbconvert_exporter": "python",
   "pygments_lexer": "ipython3",
   "version": "3.7.4"
  },
  "toc": {
   "base_numbering": 1,
   "nav_menu": {},
   "number_sections": true,
   "sideBar": true,
   "skip_h1_title": true,
   "title_cell": "Table of Contents",
   "title_sidebar": "Contents",
   "toc_cell": false,
   "toc_position": {},
   "toc_section_display": true,
   "toc_window_display": false
  }
 },
 "nbformat": 4,
 "nbformat_minor": 2
}
