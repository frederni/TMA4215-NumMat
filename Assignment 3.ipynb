{
 "cells": [
  {
   "cell_type": "markdown",
   "metadata": {},
   "source": [
    "# TMA4215 - Assignment 3 - Linear Multistep Methods\n",
    "\n",
    "**Deadline:** Wednesday September 30, 11:59PM\n",
    "\n",
    "**For approval:** Upload a Jupyter Notebook in Blackboard with code/answers. Answer Control questions in Blackboard.\n",
    "\n",
    "**Problem 1.** Predictor corrector method. Implementation.\n",
    "You shall write a function that implements a Predictor-Corrector scheme as described below. You shall demonstrate that it works on a specified test problem.\n",
    "\n",
    "We consider a pair of two-step methods, the predictor [P] is the two-step (explicit) Adams-Bashforth method, the corrector is the two-step (implicit) Adams-Moulton method. They read as follows\n",
    "\n",
    "\\begin{align*}\n",
    "[\\text{Adams-Bashforth}]\\quad & u_{n+2} - u_{n+1} = h\\,\\left(\\frac32 f_{n+1} - \\frac12 f_n\\right) \\\\\n",
    "[\\text{Adams-Moulton}]\\quad & u_{n+2} - u_{n+1} = h\\, \\left(\\frac{5}{12}f_{n+2}+\\frac23 f_{n+1}-\\frac{1}{12} f_n\\right)\n",
    "\\end{align*}\n",
    "\n",
    "With reference to the lectures and section 11.7 in the book (see in particular Example 11.8 on page 514) you shall implement the method as in *PECE* mode with constant step size. You need a starting method for the first step. You may also need a completion method for the last step. For this you will use the second order explicit two-stage Runge-Kutta method known as improved Euler (other names are Heun's method or explicit trapeziodal method). \n",
    "\n",
    "$$\n",
    "\\begin{array}{c|rr}\n",
    "0 & 0 \\\\\n",
    "1 & 1 \\\\ \\hline\n",
    "  & \\frac12 & \\frac12\n",
    "\\end{array}\n",
    "$$\n",
    "\n",
    "So the computation sequence is\n",
    "1. Take one step with the improved Euler method and step size $h$\n",
    "2. Do time stepping with the Predictor-Corrector method up to the largest integer $n$ such that $t_n=t_0+nh<T$.\n",
    "3. If $t_n<T$, Take one final step with the improved Euler method, using the stepsize $h_f = T-t_n$.\n",
    "\n",
    "\n",
    "**(a)** Write a Python function *ABM2* as indicated in the template below. Its input parameters are\n",
    "* f  : A function f(t,y) that defines the differental equation\n",
    "* y0 : The intial value (vector)\n",
    "* t0 : The initial time\n",
    "* T  : The final time\n",
    "* h  : The (constant) stepsize\n",
    "\n",
    "The output should be \n",
    "* TT : A numpy array containing all the Nsteps+1 time values t0,...,T\n",
    "* YY : A numpy array of dimension (m,Nsteps+1) where m is the dimension of the ODE\n",
    "\n",
    "(For Problem 1c You may also want to allow for a version that returns only the final value, the solution at time T)\n",
    "\n",
    "**(b)** Test it out on the Lotka-Volterra Volterra problem\n",
    "\n",
    "\\begin{align*}\n",
    "\\dot{u} &= u(v-2) & u(0)&=2\\\\\n",
    "\\dot{v} &= v(1-u) & v(0)&=1\n",
    "\\end{align*}\n",
    "\n",
    "First write the function *LV(t,y)*. Generate a phase plot, where you use $h=0.08$. This means to plot *y[1]* vs\n",
    "*y[0]* that is, *v* vs *u* in the Lotka-Volterra system above. You should get a closed loop (a periodic solution). Make $T$ just big enough to complete one period.\n",
    "\n",
    "**Control question 1.** Using ABM2(LV,y0,t0,T,h) where $y_0=[2,1]^T$, $t_0=0$, $T=2$, $h=0.03$, what is the resulting approximation to $u(2)$?\n",
    "\n",
    "**(c)** You will now learn a very standard method for estimating the convergence order of the method. This is actually a great code verification tool when you are writing software for solving ODEs. We explain it in steps.\n",
    "\n",
    "1. Let $T$ be the final time in which you want to test (the order of) the method on a given problem.\n",
    "2. Compute a reference solution at $t=T$, i.e. an approximation *yexact* of high accuracy to the solution at $t=T$. This can be done in different ways. One is to make a call to a builtin function with strict tolerances, e.g. *scipy.integrate* seems to contain several solvers. Another option is to write a simple solver with good accuracy, you could do for instance the standard four stage fourth order Runge-Kutta method. To save you some work, we offer a simple implementation of this method below (RK4) that you can use if you prefer. The important thing with the reference solution is that it is accurate enough to estimate the smallest error in your test.\n",
    "3. Now, take a suitable range of log-spaced stepsizes. For our problem here, a first attempt could be to set\n",
    "*HH=numpy.logspace(-4,-1,20)* that gives you a numpy-array of 20 stepsizes log-spaced between $10^{-4}$ and $10^{-1}$.\n",
    "4. Run the method/implementation you want to test for all these stepsizes up to time $t=T$. For each stepsize $h$ in *HH* , compute  $\\|y_T(h)-y_{ex}\\|$ where $y_T(h)$ is your approximation at $t=T$ for this stepsize, and $y_{ex}$ is the reference solution *yexact*. Store these values in a numpy-array *err.\n",
    "5. Now make a loglog-plot of *err* vs *HH*. If the error behaves like $C h^p$ this should give a straight line of slope $p$ in the loglog-plot.\n",
    "6. Estimate the order as numbers. Since our hypothesis is that for a stepsize $h_i$, the corresponding error is of the form $\\mathrm{err}_i \\approx Ch_i^{p}$, we can estimate $p$ from two stepsizes $h_1$ and $h_2$.\n",
    "$$\n",
    "\\mathrm{err}_i \\approx Ch_i^{p},\\ i=1,2\\quad\\Rightarrow\\quad p \\approx \\frac{\\log\\frac{\\mathrm{err}_1}{\\mathrm{err}_2}}{\\log\\frac{h_1}{h_2}}\n",
    "$$\n",
    "You can compute this expression for every consecutive pair of stepsizes $(h_i, h_{i+1})$.\n",
    "\n",
    "In your Jupyter Notebook, please implement this order test for the Lotka-Volterra problem to estimate the order of the ABM2 method. In the test, use the LV-function from **(b)**, set $y_0=[2,1]^T$, $t_0=0$, $T=10$ and use stepsizes logspaced in the range $10^{-4},\\ldots,10^{-1}$.\n",
    "\n",
    "**Control question 2.** What seems to be the observed order of the ABM2 implementation described above.\n"
   ]
  },
  {
   "cell_type": "code",
   "execution_count": 7,
   "metadata": {},
   "outputs": [
    {
     "data": {
      "image/png": "[encoded data removed]",
      "text/plain": [
       "<Figure size 432x288 with 1 Axes>"
      ]
     },
     "metadata": {
      "needs_background": "light"
     },
     "output_type": "display_data"
    },
    {
     "name": "stdout",
     "output_type": "stream",
     "text": [
      "u(2)= 0.2545298351105957\n"
     ]
    }
   ],
   "source": [
    "#Answer to problem 1a)\n",
    "\n",
    "import numpy as np\n",
    "import matplotlib.pyplot as plt\n",
    "\n",
    "def improvedEulerStep(f, y, t, h):\n",
    "    k1 = f(t,   y)\n",
    "    k2 = f(t+h, y+h*k1)\n",
    "    ynew = y + h/2 * (k1+k2)\n",
    "    #tnew = t + h\n",
    "    return ynew\n",
    "\n",
    "def ABM2(f,y0,ts,T,h, testOrder=False):           \n",
    "    # initialize return containers\n",
    "    Nsteps = int((T-ts)/h) # in practise floor function\n",
    "    m = len(y0)\n",
    "    YY = np.zeros((m, Nsteps+1))\n",
    "    YY[:,0] = y0 #initial value\n",
    "    fevals = np.zeros_like(YY) #stores f evals\n",
    "    fevals[:,0] = f(ts, y0)\n",
    "    TT = np.linspace(ts, T, Nsteps+1)\n",
    "    #One step with improved Euler\n",
    "    YY[:,1] = improvedEulerStep(f, y0, TT[1], h)\n",
    "    #Example 11.8 from textbook\n",
    "    for n in range(1, Nsteps):\n",
    "        t, y = TT[n], YY[:,n]\n",
    "        fevals[:,n] = f(t,y)\n",
    "        u0_n1 = y + h/2 * ( 3*fevals[:,n] - fevals[:,n-1]) #[P]\n",
    "        f0_n1 = f(TT[n+1], u0_n1) #[E]\n",
    "        u1_n1 = y + h/12 * ( 5*f0_n1 + 8*fevals[:,n]-fevals[:,n-1] ) #[C]\n",
    "        #f1_n1 = f(TT[n+1], u1_n1) #[E] - commented out since it seems unncessecary?\n",
    "        YY[:,n+1] = u1_n1\n",
    "    #Potentially take one last improved Euler step\n",
    "    if t < TT[-1]:\n",
    "        YY[:,-1] = improvedEulerStep(f, y, t, TT[-1]-t) \n",
    "    if testOrder:\n",
    "        return YY[:,-1]\n",
    "    return TT,YY\n",
    "\n",
    "\n",
    "def LV(t,y):\n",
    "    yd = np.array([y[0]*(y[1]-2), y[1]*(1-y[0])])\n",
    "    return yd\n",
    "\n",
    "def plotLV():\n",
    "    TT, YY = ABM2(LV, [2, 1], 0, 10, 0.08)\n",
    "    plt.plot(YY[0,:], YY[1,:])\n",
    "    plt.show()\n",
    "plotLV()\n",
    "\n",
    "def controlQ1():\n",
    "    TT, YY = ABM2(LV, [2,1], 0, 2, 0.03)\n",
    "    u = YY[0,-1]\n",
    "    print(\"u(2)=\", u)\n",
    "controlQ1()"
   ]
  },
  {
   "cell_type": "markdown",
   "metadata": {},
   "source": [
    "**SUPPLIED FUNCTION RK4** (can be used to get reference solution in 1c)"
   ]
  },
  {
   "cell_type": "code",
   "execution_count": 8,
   "metadata": {},
   "outputs": [],
   "source": [
    "def RK4(f,y0,t0,T,h):\n",
    "    ''' This version stores only the final value'''\n",
    "    N=int((T-t0)/h)\n",
    "    t=t0\n",
    "    y=y0\n",
    "    \n",
    "    for n in range(N):\n",
    "        K1 = f(t,y)\n",
    "        K2 = f(t+h/2,y+h/2*K1)\n",
    "        K3 = f(t+h/2,y+h/2*K2)\n",
    "        K4 = f(t+h,y+h*K3)\n",
    "        y  = y + h/6*(K1+2*K2+2*K3+K4)\n",
    "        t  = t+h\n",
    "    if t < T:\n",
    "        hf = T-t\n",
    "        K1 = f(t,y)\n",
    "        K2 = f(t+hf/2,y+hf/2*K1)\n",
    "        K3 = f(t+hf/2,y+hf/2*K2)\n",
    "        K4 = f(t+hf,y+hf*K3)\n",
    "        y  = y + hf/6*(K1+2*K2+2*K3+K4)\n",
    "    return T, y\n",
    "\n",
    "\n"
   ]
  },
  {
   "cell_type": "code",
   "execution_count": 13,
   "metadata": {},
   "outputs": [
    {
     "ename": "KeyboardInterrupt",
     "evalue": "",
     "output_type": "error",
     "traceback": [
      "\u001b[1;31m---------------------------------------------------------------------------\u001b[0m",
      "\u001b[1;31mKeyboardInterrupt\u001b[0m                         Traceback (most recent call last)",
      "\u001b[1;32m<ipython-input-13-934dd9d66d42>\u001b[0m in \u001b[0;36m<module>\u001b[1;34m\u001b[0m\n\u001b[0;32m     11\u001b[0m     \u001b[0mplt\u001b[0m\u001b[1;33m.\u001b[0m\u001b[0mloglog\u001b[0m\u001b[1;33m(\u001b[0m\u001b[0mHH\u001b[0m\u001b[1;33m,\u001b[0m \u001b[0merr\u001b[0m\u001b[1;33m)\u001b[0m\u001b[1;33m\u001b[0m\u001b[1;33m\u001b[0m\u001b[0m\n\u001b[0;32m     12\u001b[0m     \u001b[0mplt\u001b[0m\u001b[1;33m.\u001b[0m\u001b[0mshow\u001b[0m\u001b[1;33m(\u001b[0m\u001b[1;33m)\u001b[0m\u001b[1;33m\u001b[0m\u001b[1;33m\u001b[0m\u001b[0m\n\u001b[1;32m---> 13\u001b[1;33m \u001b[0mtestOrder\u001b[0m\u001b[1;33m(\u001b[0m\u001b[0mLV\u001b[0m\u001b[1;33m,\u001b[0m \u001b[1;33m[\u001b[0m\u001b[1;36m2\u001b[0m\u001b[1;33m,\u001b[0m\u001b[1;36m1\u001b[0m\u001b[1;33m]\u001b[0m\u001b[1;33m,\u001b[0m \u001b[1;36m0\u001b[0m\u001b[1;33m,\u001b[0m \u001b[1;36m10\u001b[0m\u001b[1;33m,\u001b[0m \u001b[1;33m-\u001b[0m\u001b[1;36m4\u001b[0m\u001b[1;33m,\u001b[0m \u001b[1;33m-\u001b[0m\u001b[1;36m1\u001b[0m\u001b[1;33m)\u001b[0m\u001b[1;33m\u001b[0m\u001b[1;33m\u001b[0m\u001b[0m\n\u001b[0m",
      "\u001b[1;32m<ipython-input-13-934dd9d66d42>\u001b[0m in \u001b[0;36mtestOrder\u001b[1;34m(f, y0, t0, T, h0, H)\u001b[0m\n\u001b[0;32m      1\u001b[0m \u001b[1;32mdef\u001b[0m \u001b[0mtestOrder\u001b[0m\u001b[1;33m(\u001b[0m\u001b[0mf\u001b[0m\u001b[1;33m,\u001b[0m \u001b[0my0\u001b[0m\u001b[1;33m,\u001b[0m \u001b[0mt0\u001b[0m\u001b[1;33m,\u001b[0m \u001b[0mT\u001b[0m\u001b[1;33m,\u001b[0m \u001b[0mh0\u001b[0m\u001b[1;33m,\u001b[0m \u001b[0mH\u001b[0m\u001b[1;33m)\u001b[0m\u001b[1;33m:\u001b[0m\u001b[1;33m\u001b[0m\u001b[1;33m\u001b[0m\u001b[0m\n\u001b[1;32m----> 2\u001b[1;33m     \u001b[0myexact\u001b[0m \u001b[1;33m=\u001b[0m \u001b[0mRK4\u001b[0m\u001b[1;33m(\u001b[0m\u001b[0mf\u001b[0m\u001b[1;33m,\u001b[0m \u001b[0my0\u001b[0m\u001b[1;33m,\u001b[0m \u001b[0mt0\u001b[0m\u001b[1;33m,\u001b[0m \u001b[0mT\u001b[0m\u001b[1;33m,\u001b[0m \u001b[1;36m1e-15\u001b[0m\u001b[1;33m)\u001b[0m\u001b[1;33m[\u001b[0m\u001b[1;36m1\u001b[0m\u001b[1;33m]\u001b[0m\u001b[1;33m\u001b[0m\u001b[1;33m\u001b[0m\u001b[0m\n\u001b[0m\u001b[0;32m      3\u001b[0m     \u001b[1;31m#yexact = np.array(yexact)\u001b[0m\u001b[1;33m\u001b[0m\u001b[1;33m\u001b[0m\u001b[1;33m\u001b[0m\u001b[0m\n\u001b[0;32m      4\u001b[0m     \u001b[0mmagic\u001b[0m \u001b[1;33m=\u001b[0m \u001b[1;36m20\u001b[0m\u001b[1;33m\u001b[0m\u001b[1;33m\u001b[0m\u001b[0m\n\u001b[0;32m      5\u001b[0m     \u001b[0mHH\u001b[0m \u001b[1;33m=\u001b[0m \u001b[0mnp\u001b[0m\u001b[1;33m.\u001b[0m\u001b[0mlogspace\u001b[0m\u001b[1;33m(\u001b[0m\u001b[0mh0\u001b[0m\u001b[1;33m,\u001b[0m\u001b[0mH\u001b[0m\u001b[1;33m,\u001b[0m\u001b[0mmagic\u001b[0m\u001b[1;33m)\u001b[0m\u001b[1;33m\u001b[0m\u001b[1;33m\u001b[0m\u001b[0m\n",
      "\u001b[1;32m<ipython-input-8-6e79dee72c6c>\u001b[0m in \u001b[0;36mRK4\u001b[1;34m(f, y0, t0, T, h)\u001b[0m\n\u001b[0;32m      6\u001b[0m \u001b[1;33m\u001b[0m\u001b[0m\n\u001b[0;32m      7\u001b[0m     \u001b[1;32mfor\u001b[0m \u001b[0mn\u001b[0m \u001b[1;32min\u001b[0m \u001b[0mrange\u001b[0m\u001b[1;33m(\u001b[0m\u001b[0mN\u001b[0m\u001b[1;33m)\u001b[0m\u001b[1;33m:\u001b[0m\u001b[1;33m\u001b[0m\u001b[1;33m\u001b[0m\u001b[0m\n\u001b[1;32m----> 8\u001b[1;33m         \u001b[0mK1\u001b[0m \u001b[1;33m=\u001b[0m \u001b[0mf\u001b[0m\u001b[1;33m(\u001b[0m\u001b[0mt\u001b[0m\u001b[1;33m,\u001b[0m\u001b[0my\u001b[0m\u001b[1;33m)\u001b[0m\u001b[1;33m\u001b[0m\u001b[1;33m\u001b[0m\u001b[0m\n\u001b[0m\u001b[0;32m      9\u001b[0m         \u001b[0mK2\u001b[0m \u001b[1;33m=\u001b[0m \u001b[0mf\u001b[0m\u001b[1;33m(\u001b[0m\u001b[0mt\u001b[0m\u001b[1;33m+\u001b[0m\u001b[0mh\u001b[0m\u001b[1;33m/\u001b[0m\u001b[1;36m2\u001b[0m\u001b[1;33m,\u001b[0m\u001b[0my\u001b[0m\u001b[1;33m+\u001b[0m\u001b[0mh\u001b[0m\u001b[1;33m/\u001b[0m\u001b[1;36m2\u001b[0m\u001b[1;33m*\u001b[0m\u001b[0mK1\u001b[0m\u001b[1;33m)\u001b[0m\u001b[1;33m\u001b[0m\u001b[1;33m\u001b[0m\u001b[0m\n\u001b[0;32m     10\u001b[0m         \u001b[0mK3\u001b[0m \u001b[1;33m=\u001b[0m \u001b[0mf\u001b[0m\u001b[1;33m(\u001b[0m\u001b[0mt\u001b[0m\u001b[1;33m+\u001b[0m\u001b[0mh\u001b[0m\u001b[1;33m/\u001b[0m\u001b[1;36m2\u001b[0m\u001b[1;33m,\u001b[0m\u001b[0my\u001b[0m\u001b[1;33m+\u001b[0m\u001b[0mh\u001b[0m\u001b[1;33m/\u001b[0m\u001b[1;36m2\u001b[0m\u001b[1;33m*\u001b[0m\u001b[0mK2\u001b[0m\u001b[1;33m)\u001b[0m\u001b[1;33m\u001b[0m\u001b[1;33m\u001b[0m\u001b[0m\n",
      "\u001b[1;32m<ipython-input-7-44b950ce82c8>\u001b[0m in \u001b[0;36mLV\u001b[1;34m(t, y)\u001b[0m\n\u001b[0;32m     40\u001b[0m \u001b[1;33m\u001b[0m\u001b[0m\n\u001b[0;32m     41\u001b[0m \u001b[1;32mdef\u001b[0m \u001b[0mLV\u001b[0m\u001b[1;33m(\u001b[0m\u001b[0mt\u001b[0m\u001b[1;33m,\u001b[0m\u001b[0my\u001b[0m\u001b[1;33m)\u001b[0m\u001b[1;33m:\u001b[0m\u001b[1;33m\u001b[0m\u001b[1;33m\u001b[0m\u001b[0m\n\u001b[1;32m---> 42\u001b[1;33m     \u001b[0myd\u001b[0m \u001b[1;33m=\u001b[0m \u001b[0mnp\u001b[0m\u001b[1;33m.\u001b[0m\u001b[0marray\u001b[0m\u001b[1;33m(\u001b[0m\u001b[1;33m[\u001b[0m\u001b[0my\u001b[0m\u001b[1;33m[\u001b[0m\u001b[1;36m0\u001b[0m\u001b[1;33m]\u001b[0m\u001b[1;33m*\u001b[0m\u001b[1;33m(\u001b[0m\u001b[0my\u001b[0m\u001b[1;33m[\u001b[0m\u001b[1;36m1\u001b[0m\u001b[1;33m]\u001b[0m\u001b[1;33m-\u001b[0m\u001b[1;36m2\u001b[0m\u001b[1;33m)\u001b[0m\u001b[1;33m,\u001b[0m \u001b[0my\u001b[0m\u001b[1;33m[\u001b[0m\u001b[1;36m1\u001b[0m\u001b[1;33m]\u001b[0m\u001b[1;33m*\u001b[0m\u001b[1;33m(\u001b[0m\u001b[1;36m1\u001b[0m\u001b[1;33m-\u001b[0m\u001b[0my\u001b[0m\u001b[1;33m[\u001b[0m\u001b[1;36m0\u001b[0m\u001b[1;33m]\u001b[0m\u001b[1;33m)\u001b[0m\u001b[1;33m]\u001b[0m\u001b[1;33m)\u001b[0m\u001b[1;33m\u001b[0m\u001b[1;33m\u001b[0m\u001b[0m\n\u001b[0m\u001b[0;32m     43\u001b[0m     \u001b[1;32mreturn\u001b[0m \u001b[0myd\u001b[0m\u001b[1;33m\u001b[0m\u001b[1;33m\u001b[0m\u001b[0m\n\u001b[0;32m     44\u001b[0m \u001b[1;33m\u001b[0m\u001b[0m\n",
      "\u001b[1;31mKeyboardInterrupt\u001b[0m: "
     ]
    }
   ],
   "source": [
    "def testOrder(f, y0, t0, T, h0, H):\n",
    "    yexact = RK4(f, y0, t0, T, 1e-15)[1]\n",
    "    #yexact = np.array(yexact)\n",
    "    magic = 20\n",
    "    HH = np.logspace(h0,H,magic)\n",
    "    err = np.zeros(len(HH))\n",
    "    for it, h in enumerate(HH):\n",
    "        yT = ABM2(f,y0,t0,T,h, testOrder=True)  \n",
    "        err[it] = np.linalg.norm(yT-yexact)\n",
    "        print(it)\n",
    "    plt.loglog(HH, err)\n",
    "    plt.show()\n",
    "testOrder(LV, [2,1], 0, 10, -4, -1)"
   ]
  },
  {
   "cell_type": "code",
   "execution_count": 169,
   "metadata": {},
   "outputs": [
    {
     "name": "stdout",
     "output_type": "stream",
     "text": [
      "Answer to 1b)\n",
      "Answer to Control question 1\n",
      "\n",
      "\n",
      " Answer to 1c)\n",
      "\n",
      "\n",
      "\n",
      "\n",
      "Answer to Control question 2\n"
     ]
    }
   ],
   "source": [
    "import matplotlib.pyplot as plt\n",
    "\n",
    "# Answer to 1b)\n",
    "print(\"Answer to 1b)\")\n",
    "'''Fill inn code here'''\n",
    "\n",
    "\n",
    "# Answer to Control question 1\n",
    "\n",
    "print(\"Answer to Control question 1\")\n",
    "'''Fill in code here'''\n",
    "\n",
    "# 1c)  order test \n",
    "\n",
    "print(\"\\n\\n Answer to 1c)\\n\")\n",
    "'''Fill n code here'''\n",
    "\n",
    "# Answer to Control question 1\n",
    "\n",
    "print(\"\\n\\n\\nAnswer to Control question 2\")\n",
    "\n",
    "\n"
   ]
  },
  {
   "cell_type": "markdown",
   "metadata": {},
   "source": [
    "**Problem 2.** Determine which (if any) of the following linear multistep methods are convergent. If convergent, determine also the order of the method. Include your argument and some calculations as you see fit.\n",
    "\n",
    "**(a)**\n",
    "\n",
    "$$\n",
    "u_{n+3}+u_{n+2} - u_{n+1} - u_{n} = \\frac{h}{3}(f_{n+3}+5f_{n+2}+5f_{n+1}+f_n)\n",
    "$$\n",
    "\n",
    "**(b)**\n",
    "\n",
    "$$\n",
    "u_{n+3}-u_{n+2} + u_{n+1} - u_{n} =  \\frac{h}{6}(11 f_{n+2}-4 f_{n+1}+5f_n)\n",
    "$$\n",
    "\n",
    "\n",
    "**Control question 3.** Is the method in **(2a)** convergent?\n",
    "\n",
    "\n",
    "**Control question 4.** Is the method in **(2b)** convergent?\n"
   ]
  }
 ],
 "metadata": {
  "kernelspec": {
   "display_name": "Python 3",
   "language": "python",
   "name": "python3"
  },
  "language_info": {
   "codemirror_mode": {
    "name": "ipython",
    "version": 3
   },
   "file_extension": ".py",
   "mimetype": "text/x-python",
   "name": "python",
   "nbconvert_exporter": "python",
   "pygments_lexer": "ipython3",
   "version": "3.7.4"
  }
 },
 "nbformat": 4,
 "nbformat_minor": 4
}
