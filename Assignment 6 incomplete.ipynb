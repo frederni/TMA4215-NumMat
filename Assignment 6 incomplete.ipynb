{
 "cells": [
  {
   "cell_type": "markdown",
   "metadata": {},
   "source": [
    "# Assignment 6\n",
    "<font color=\"grey\">\n",
    "**Due date:** Wednesday November 18, 23:59\n",
    "\n",
    "**Requirements for approval:** You need to upload the solution, either as a Jupyter Notebook or as a pdf. You also need to answer the Control questions.\n",
    "\n",
    "**Problem 1** (Exam question 2008)\n",
    "\n",
    "**a)** Find the first 3 polynomials orthogonal with respect to the inner product\n",
    "\n",
    "$$\n",
    "\\langle f,g\\rangle_w = \\int_0^1 \\frac{1}{\\sqrt{x}}\\; f(x)g(x)\\, dx\n",
    "$$\n",
    "\n",
    "You can scale these polynomials to be monic.\n",
    "\n",
    "**Control question 1:** If $p_2(x)=x^2+ax+c$ what is $a$? \n",
    "\n",
    "**b)** Find a quadrature formula of the form\n",
    "\n",
    "$$\n",
    "   \\int_0^1 \\,\\frac{1}{\\sqrt{x}}\\; f(x)\\,dx  = A_1 f(x_1) + A_2 f(x_2)\n",
    "$$\n",
    "\n",
    "with an optimal degree of precision. Use this formula to find an approximation to the\n",
    "integral\n",
    "\n",
    "$$\n",
    "    \\int_0^1 \\sqrt{x}\\,\\sin x \\; dx\n",
    "$$\n",
    "\n",
    "**Control question 2:** Give the value of the approximation to the integral.\n",
    "</font>"
   ]
  },
  {
   "cell_type": "markdown",
   "metadata": {},
   "source": [
    "## Task 1a)\n",
    "We start with $\\phi_0=1$. The second polynomial is given by\n",
    "\n",
    "$$\n",
    "\\begin{equation}\n",
    "\\langle x p_0, p_0 \\rangle_w = \\frac{2}{3}, \\quad \\langle p_0, p_0 \\rangle_w = 2 \\\\\n",
    "\\implies B_1 = \\frac{\\langle x p_0, p_0 \\rangle_w}{\\langle p_0, p_0 \\rangle_w} = \\frac{1}{3} \\implies p_1 = x-\\frac{1}{3}\n",
    "\\end{equation}\n",
    "$$\n",
    "Using this to get $p_2$, we find:\n",
    "\n",
    "$$\n",
    "\\langle xp_1, p_1 \\rangle_w = \\frac{88}{945}, \\quad \\langle p_1, p_1, \\rangle_w = \\frac{8}{45} \\\\\n",
    "\\implies B_2 = \\frac{\\langle xp_1, p_1 \\rangle_w}{\\langle p_1, p_1, \\rangle_w}=\\frac{11}{21} \\quad C_2 = \\frac{\\langle p_1, p_1, \\rangle_w}{\\langle p_0, p_0, \\rangle_w} = \\frac{4}{45} \\\\\n",
    "\\implies p_2 = \\left(x-\\frac{11}{21}\\right) \\left(x-\\frac{1}{3}\\right) - \\frac{4}{45} = x^2-\\frac{6}{7}x+\\frac{3}{35}\n",
    "$$\n",
    "\n",
    "<div class=\"alert alert-info\">\n",
    "   <strong>QQ1: </strong> $a=-\\frac{6}{7}$\n",
    "</div>"
   ]
  },
  {
   "cell_type": "markdown",
   "metadata": {},
   "source": [
    "## Task 1b)\n",
    "Recall that $A_1$ and $A_2$ are given by:\n",
    "$$\n",
    "A_1 = \\int_0^1 \\frac{1}{\\sqrt{x}} \\frac{x-x_2}{x_1-x_2} dx \\quad A_2 = \\int_0^1 \\frac{1}{\\sqrt{x}} \\frac{x-x_1}{x_2-x_1} dx\n",
    "$$\n",
    "\n",
    "We use the roots of $p_2(x)$ for $x_1$ and $x_2$. We have, e.g. by the quadratic formula, $x_1, x_2 =\\frac{3}{7} \\mp \\frac{2}{35}\\sqrt{30}$.\n",
    "\n",
    "Evaluating $A_1$ and $A_2$ results in $A_1, A_2=1 \\pm \\frac{\\sqrt{30}}{18}$, and thus the approximation becomes, with $f(x)=x \\sin (x)$, becomes\n",
    "\n",
    "$$\n",
    "\\int_0^1 f(x) dx \\approx A_1 f(x_1) + A_2 f(x_2) \\approx 0.365849\n",
    "$$\n",
    "\n",
    "<div class=\"alert alert-info\">\n",
    "   <strong>QQ2: </strong> $0.365849$\n",
    "</div>"
   ]
  },
  {
   "cell_type": "markdown",
   "metadata": {},
   "source": [
    "**Problem 2** Exam question (August 2007)\n",
    "\n",
    "We consider the integral\n",
    "\n",
    "$$\n",
    "  I = \\int_{0}^{\\pi/2} \\sqrt{x}\\cos(x)\\,dx\n",
    "$$\n",
    "\n",
    "As usual, we denote by\n",
    "\n",
    "$$\n",
    "     T_n = h_n\\,\\sum_{i=0}^n'' f(x_i),\\quad\n",
    "     U_n = h_n\\,\\sum_{i=1}^n f(x_i-\\frac{h_n}{2}),\\quad x_i=i\\,h_n,\\quad h_n=\\frac{\\pi}{2}\\cdot\\frac{1}{n},\n",
    "$$\n",
    "\n",
    "the composite trapezoidal and midpoint rules respectively\n",
    "where the sum for $T_n$ has half weight on the first and last term. \n",
    "\n",
    "**a)** Compute $T_{2^k}$, $k=0,1,2,3,4$. It is given that\n",
    "$U_2 = 0.780937,\\; U_4 = 0.727256,\\; U_8 = 0.711363$.\n",
    "\n",
    "**b)** It is not to be expected that the Euler-Maclaurin formula can be used for this problem, since the derivatives of the integrand are singular in the left end point, $x=0$. But it is possible to show that an expansion of the form\n",
    "\n",
    "$$\n",
    "    T_n = I + C_{\\frac{3}{2}} n^{-\\frac{3}{2}} + C_2 n^{-2} + \n",
    "    C_{\\frac{5}{2}} n^{-\\frac{5}{2}} +  C_{\\frac{7}{2}} n^{-\\frac{7}{2}}\n",
    "    + C_4 n^{-4} + \\cdots\n",
    "$$\n",
    "\n",
    "exists. Use $T_4$, $T_8$, $T_{16}$ to compute an approximation to $I$ where the first term in the error expansion is of order $n^{-5/2}$.\n",
    "\n",
    "**Control question 3:** What do you get when applying the extrapolation method in **(b)** to the integral above?"
   ]
  },
  {
   "cell_type": "code",
   "execution_count": 15,
   "metadata": {},
   "outputs": [
    {
     "name": "stdout",
     "output_type": "stream",
     "text": [
      "6.027409189952586e-17 0.49217531080382565 0.6365565822370047 0.6819063076141454 0.6966348490746898\n"
     ]
    }
   ],
   "source": [
    "import numpy as np\n",
    "\n",
    "def f(x):\n",
    "    return np.sqrt(x)*np.cos(x)\n",
    "\n",
    "def trapezoidal(N, f, a=0, b=np.pi/2):\n",
    "    x = np.linspace(a,b,N+1) \n",
    "    y = f(x)\n",
    "    y_right = y[1:] \n",
    "    y_left = y[:-1]\n",
    "    dx = (b - a)/N\n",
    "    T = (dx/2) * np.sum(y_right + y_left)\n",
    "    return T\n",
    "T1, T2, T4, T8, T16 = trapezoidal(1, f), trapezoidal(2, f), trapezoidal(4, f), trapezoidal(8, f), trapezoidal(16, f)\n",
    "print(T1, T2, T4, T8, T16)\n"
   ]
  },
  {
   "cell_type": "code",
   "execution_count": null,
   "metadata": {},
   "outputs": [],
   "source": []
  }
 ],
 "metadata": {
  "kernelspec": {
   "display_name": "Python 3",
   "language": "python",
   "name": "python3"
  },
  "language_info": {
   "codemirror_mode": {
    "name": "ipython",
    "version": 3
   },
   "file_extension": ".py",
   "mimetype": "text/x-python",
   "name": "python",
   "nbconvert_exporter": "python",
   "pygments_lexer": "ipython3",
   "version": "3.7.4"
  }
 },
 "nbformat": 4,
 "nbformat_minor": 4
}
